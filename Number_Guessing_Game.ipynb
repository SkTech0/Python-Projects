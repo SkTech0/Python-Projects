{
  "nbformat": 4,
  "nbformat_minor": 0,
  "metadata": {
    "colab": {
      "provenance": []
    },
    "kernelspec": {
      "name": "python3",
      "display_name": "Python 3"
    },
    "language_info": {
      "name": "python"
    }
  },
  "cells": [
    {
      "cell_type": "code",
      "execution_count": 2,
      "metadata": {
        "colab": {
          "base_uri": "https://localhost:8080/"
        },
        "id": "nhs5TeYmRKa3",
        "outputId": "85f54a97-b629-4767-b91b-adacc2ea4635"
      },
      "outputs": [
        {
          "output_type": "stream",
          "name": "stdout",
          "text": [
            "Enter Lower bound:- 1\n",
            "Enter Upper bound:- 100\n",
            "\n",
            "\tYou've only  7  chances to guess the integer!\n",
            "\n",
            "Guess a number:- 50\n",
            "You Guessed too high!\n",
            "Guess a number:- 25\n",
            "You guessed too small!\n",
            "Guess a number:- 37\n",
            "You guessed too small!\n",
            "Guess a number:- 42\n",
            "You guessed too small!\n",
            "Guess a number:- 46\n",
            "You guessed too small!\n",
            "Guess a number:- 48\n",
            "You guessed too small!\n",
            "Guess a number:- 49\n",
            "Congratulations you did it in  7  try\n",
            "\n",
            "The number is 49\n",
            "\tBetter Luck Next time!\n"
          ]
        }
      ],
      "source": [
        "import random\n",
        "import math\n",
        "# Taking Inputs\n",
        "lower = int(input(\"Enter Lower bound:- \"))\n",
        "\n",
        "# Taking Inputs\n",
        "upper = int(input(\"Enter Upper bound:- \"))\n",
        "\n",
        "# generating random number between\n",
        "# the lower and upper\n",
        "x = random.randint(lower, upper)\n",
        "print(\"\\n\\tYou've only \",\n",
        "\tround(math.log(upper - lower + 1, 2)),\n",
        "\t\" chances to guess the integer!\\n\")\n",
        "\n",
        "# Initializing the number of guesses.\n",
        "count = 0\n",
        "\n",
        "# for calculation of minimum number of\n",
        "# guesses depends upon range\n",
        "while count < math.log(upper - lower + 1, 2):\n",
        "\tcount += 1\n",
        "\n",
        "\t# taking guessing number as input\n",
        "\tguess = int(input(\"Guess a number:- \"))\n",
        "\n",
        "\t# Condition testing\n",
        "\tif x == guess:\n",
        "\t\tprint(\"Congratulations you did it in \",\n",
        "\t\t\tcount, \" try\")\n",
        "\t\t# Once guessed, loop will break\n",
        "\t\tbreak\n",
        "\telif x > guess:\n",
        "\t\tprint(\"You guessed too small!\")\n",
        "\telif x < guess:\n",
        "\t\tprint(\"You Guessed too high!\")\n",
        "\n",
        "# If Guessing is more than required guesses,\n",
        "# shows this output.\n",
        "if count >= math.log(upper - lower + 1, 2):\n",
        "\tprint(\"\\nThe number is %d\" % x)\n",
        "\tprint(\"\\tBetter Luck Next time!\")\n",
        "\n",
        "\n"
      ]
    },
    {
      "cell_type": "code",
      "source": [],
      "metadata": {
        "id": "x0PmJyDeRpZR"
      },
      "execution_count": null,
      "outputs": []
    }
  ]
}