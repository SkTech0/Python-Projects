{
  "nbformat": 4,
  "nbformat_minor": 0,
  "metadata": {
    "colab": {
      "provenance": []
    },
    "kernelspec": {
      "name": "python3",
      "display_name": "Python 3"
    },
    "language_info": {
      "name": "python"
    }
  },
  "cells": [
    {
      "cell_type": "code",
      "execution_count": 10,
      "metadata": {
        "colab": {
          "base_uri": "https://localhost:8080/"
        },
        "id": "nhs5TeYmRKa3",
        "outputId": "649e3236-c061-43f8-852e-62e48da5695b"
      },
      "outputs": [
        {
          "output_type": "stream",
          "name": "stdout",
          "text": [
            "Enter Lower bound:- 1\n",
            "Enter Upper bound:- 10\n",
            "\n",
            "\tYou've only  3  chances to guess the integer!\n",
            "\n",
            "Guess a number:- 5\n",
            "You Guessed too high!\n",
            "Guess a number:- 6\n",
            "You Guessed too high!\n",
            "Guess a number:- 7\n",
            "You Guessed too high!\n",
            "\n",
            "The number is 3\n",
            "\tBetter Luck Next time!\n"
          ]
        }
      ],
      "source": [
        "import random\n",
        "import math\n",
        "# Taking Inputs\n",
        "lower = int(input(\"Enter Lower bound:- \"))\n",
        "\n",
        "# Taking Inputs\n",
        "upper = int(input(\"Enter Upper bound:- \"))\n",
        "\n",
        "# generating random number between\n",
        "# the lower and upper\n",
        "x = random.randint(lower, upper)\n",
        "print(\"\\n\\tYou've only \",\n",
        "\tround(math.log(upper - lower + 1, 2)),\n",
        "\t\" chances to guess the integer!\\n\")\n",
        "\n",
        "# Initializing the number of guesses.\n",
        "count = 0\n",
        "\n",
        "# for calculation of minimum number of\n",
        "# guesses depends upon range\n",
        "while count < int(math.log(upper - lower + 1, 2)):\n",
        "\tcount += 1\n",
        "\n",
        "\t# taking guessing number as input\n",
        "\tguess = int(input(\"Guess a number:- \"))\n",
        "\n",
        "\t# Condition testing\n",
        "\tif x == guess:\n",
        "\t\tprint(\"Congratulations you did it in \",\n",
        "\t\t\tcount, \" try\")\n",
        "\t\t# Once guessed, loop will break\n",
        "\t\tbreak\n",
        "\telif x > guess:\n",
        "\t\tprint(\"You guessed too small!\")\n",
        "\telif x < guess:\n",
        "\t\tprint(\"You Guessed too high!\")\n",
        "\n",
        "# If Guessing is more than required guesses,\n",
        "# shows this output.\n",
        "if count >= int(math.log(upper - lower + 1, 2)):\n",
        "\tprint(\"\\nThe number is %d\" % x)\n",
        "\tprint(\"\\tBetter Luck Next time!\")\n",
        "\n",
        "\n"
      ]
    },
    {
      "cell_type": "code",
      "source": [
        "int(math.log(upper - lower + 1, 2))"
      ],
      "metadata": {
        "colab": {
          "base_uri": "https://localhost:8080/"
        },
        "id": "x0PmJyDeRpZR",
        "outputId": "dec58e1f-c1e6-41f7-b1ae-7ea9b9f663b3"
      },
      "execution_count": 7,
      "outputs": [
        {
          "output_type": "execute_result",
          "data": {
            "text/plain": [
              "3"
            ]
          },
          "metadata": {},
          "execution_count": 7
        }
      ]
    },
    {
      "cell_type": "code",
      "source": [],
      "metadata": {
        "id": "wrIqYX7Crxz-"
      },
      "execution_count": null,
      "outputs": []
    }
  ]
}